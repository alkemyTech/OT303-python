{
 "cells": [
  {
   "cell_type": "markdown",
   "metadata": {},
   "source": [
    "# TASK OT303-61 - PROCESAMIENTO CON PANDAS"
   ]
  },
  {
   "cell_type": "markdown",
   "metadata": {},
   "source": [
    "**COMO:** *Analista de datos*  \n",
    "\n",
    "**QUIERO:** *Crear una función Python con Pandas para cada universidad*  \n",
    "\n",
    "**PARA:** *poder normalizar los datos de las mismas*  \n"
   ]
  },
  {
   "cell_type": "markdown",
   "metadata": {},
   "source": [
    "**Criterios de aceptación:**\n",
    "*Una funcion que devuelva un txt para cada una de las siguientes universidades con los datos normalizados*\n",
    "\n",
    "- Universidad De Flores\n",
    "- Universidad Nacional De Villa María\n",
    "\n",
    "**Datos Finales:**\n",
    "\n",
    "*university*: str minúsculas, sin espacios extras, ni guiones  \n",
    "*career*: str minúsculas, sin espacios extras, ni guiones  \n",
    "*inscription_date*: str %Y-%m-%d format  \n",
    "*first_name*: str minúscula y sin espacios, ni guiones  \n",
    "*last_name*: str minúscula y sin espacios, ni guiones  \n",
    "*gender*: str choice(male, female)  \n",
    "*age*: int  \n",
    "*postal_code*: str  \n",
    "*location*: str minúscula sin espacios extras, ni guiones  \n",
    "*email*: str minúsculas, sin espacios extras, ni guiones  "
   ]
  },
  {
   "cell_type": "markdown",
   "metadata": {},
   "source": [
    "**Aclaraciones:** \n",
    "Para calcular codigo postal o locación se va a utilizar el .csv que se encuentra en el repo.\n",
    "La edad se debe calcular en todos los casos.  \n",
    "***Las consutlas .sql ya tienen en cuenta esta aclaración***\n"
   ]
  },
  {
   "cell_type": "code",
   "execution_count": 1,
   "metadata": {},
   "outputs": [],
   "source": [
    "# Imports\n",
    "import pandas as pd\n",
    "import numpy as np\n",
    "import re\n",
    "import os\n",
    "\n",
    "# Vars\n",
    "PATH='../clear_data/'\n",
    "FLORES = '../csv/OT303-Universidad-Flores.csv'\n",
    "VILLA_MARIA = '../csv/OT303-Universidad-VillaMaria.csv'\n"
   ]
  },
  {
   "cell_type": "code",
   "execution_count": 2,
   "metadata": {},
   "outputs": [],
   "source": [
    "def spy_on_data(df: pd.DataFrame):\n",
    "    print(np.unique(df['university'].values))\n",
    "    print(f'Total rows: {df.shape[0]} - Total cols: {df.shape[1]}')\n",
    "    print('Keys and Types')\n",
    "    print(df.info())\n",
    "    print('Max age: ', np.max(df['age']))"
   ]
  },
  {
   "cell_type": "code",
   "execution_count": 3,
   "metadata": {},
   "outputs": [
    {
     "name": "stdout",
     "output_type": "stream",
     "text": [
      "['UNIVERSIDAD DE FLORES']\n",
      "Total rows: 1819 - Total cols: 10\n",
      "Keys and Types\n",
      "<class 'pandas.core.frame.DataFrame'>\n",
      "RangeIndex: 1819 entries, 0 to 1818\n",
      "Data columns (total 10 columns):\n",
      " #   Column            Non-Null Count  Dtype  \n",
      "---  ------            --------------  -----  \n",
      " 0   university        1819 non-null   object \n",
      " 1   career            1819 non-null   object \n",
      " 2   inscription_date  1819 non-null   object \n",
      " 3   first_name        1819 non-null   object \n",
      " 4   last_name         1819 non-null   object \n",
      " 5   gender            1819 non-null   object \n",
      " 6   age               1819 non-null   float64\n",
      " 7   postal_code       1819 non-null   int64  \n",
      " 8   location          1819 non-null   object \n",
      " 9   email             1819 non-null   object \n",
      "dtypes: float64(1), int64(1), object(8)\n",
      "memory usage: 142.2+ KB\n",
      "None\n",
      "Max age:  116.0\n"
     ]
    }
   ],
   "source": [
    "flores_csv = pd.read_csv(FLORES)\n",
    "spy_on_data(flores_csv)"
   ]
  },
  {
   "cell_type": "code",
   "execution_count": 4,
   "metadata": {},
   "outputs": [
    {
     "name": "stdout",
     "output_type": "stream",
     "text": [
      "['UNIVERSIDAD NACIONAL DE VILLA MARÍA']\n",
      "Total rows: 2138 - Total cols: 10\n",
      "Keys and Types\n",
      "<class 'pandas.core.frame.DataFrame'>\n",
      "RangeIndex: 2138 entries, 0 to 2137\n",
      "Data columns (total 10 columns):\n",
      " #   Column            Non-Null Count  Dtype \n",
      "---  ------            --------------  ----- \n",
      " 0   university        2138 non-null   object\n",
      " 1   career            2138 non-null   object\n",
      " 2   inscription_date  2138 non-null   object\n",
      " 3   first_name        2138 non-null   object\n",
      " 4   last_name         2138 non-null   object\n",
      " 5   gender            2138 non-null   object\n",
      " 6   age               2138 non-null   int64 \n",
      " 7   postal_code       2138 non-null   int64 \n",
      " 8   location          2138 non-null   object\n",
      " 9   email             2138 non-null   object\n",
      "dtypes: int64(2), object(8)\n",
      "memory usage: 167.2+ KB\n",
      "None\n",
      "Max age:  99\n"
     ]
    }
   ],
   "source": [
    "villa_maria_csv = pd.read_csv(VILLA_MARIA)\n",
    "spy_on_data(villa_maria_csv)"
   ]
  },
  {
   "cell_type": "code",
   "execution_count": 5,
   "metadata": {},
   "outputs": [],
   "source": [
    "def normalize_data(df: pd.DataFrame):\n",
    "    \"\"\"Normalize data from pandas dataframe.\n",
    "\n",
    "    Args:\n",
    "        df (pd.DataFrame): input dataframe.\n",
    "\n",
    "    Returns:\n",
    "        pd.DataFrame: clear dataframe.\n",
    "    \"\"\"\n",
    "    # strip() remove white spaces at end or beginning.\n",
    "    # lower() string to lowercase.\n",
    "    # r\"\\s+\" Pattern whitespace\n",
    "    re_underscore = r'(_|-)'\n",
    "    re_whitespace = r'\\s+'\n",
    "\n",
    "    # University\n",
    "    df['university'] = df['university'].str.lower()\n",
    "    df['university'] = df['university'].replace(\n",
    "        re_underscore, ' ').replace(re_whitespace, ' ').str.strip()\n",
    "    # Career\n",
    "    df['career'] = df['career'].str.lower()\n",
    "    df['career'] = df['career'].replace(\n",
    "        re_underscore, ' ').replace(re_whitespace, ' ').str.strip()\n",
    "    # Inscription Date.\n",
    "    # The date is in the correct format. Meanwhile, the correct way to format is:\n",
    "    # Convert object to datetime.\n",
    "    df['inscription_date'] = pd.to_datetime(df['inscription_date'])\n",
    "    df['inscription_date'] = df['inscription_date'].dt.strftime('%Y-%m-%d')\n",
    "    # First name.\n",
    "    df['first_name'] = df['first_name'].str.lower()\n",
    "    df['first_name'] = df['first_name'].replace(\n",
    "        re_underscore, ' ').replace(re_whitespace, ' ').str.strip()\n",
    "    # Last name.\n",
    "    df['last_name'] = df['last_name'].str.lower()\n",
    "    df['last_name'] = df['last_name'].replace(\n",
    "        re_underscore, ' ').replace(re_whitespace, ' ').str.strip()\n",
    "    # Gender.\n",
    "    df['gender'] = df['gender'].replace(['F', 'M'], ['female', 'male'])\n",
    "    # Age. #np.int8 or np.int16 less memory usage.\n",
    "    df['age'] = df['age'].astype(dtype=np.int16)\n",
    "    # Postal code.\n",
    "    df['postal_code'] = df['postal_code'].astype('str')\n",
    "    # Location.\n",
    "    df['location'] = df['location'].str.lower()\n",
    "    df['location'] = df['location'].replace(\n",
    "        re_underscore, ' ').replace(re_whitespace, ' ').str.strip()\n",
    "\n",
    "    df['email'] = df['email'].str.lower()\n",
    "    df['email'] = df['email'].replace(\n",
    "        re_underscore, ' ').replace(re_whitespace, ' ').str.strip()\n",
    "\n",
    "    return df\n"
   ]
  },
  {
   "cell_type": "code",
   "execution_count": 6,
   "metadata": {},
   "outputs": [],
   "source": [
    "def create_txt(df: pd.DataFrame, file_name: str):\n",
    "    \"\"\"Create file.txt from pandas dataframe and return the file.\n",
    "\n",
    "    Args:\n",
    "        df (pd.DataFrame): Dataframe.\n",
    "        file_name (str): Filename.\n",
    "\n",
    "    Returns:\n",
    "        text_file: text_file generated.\n",
    "    \"\"\"\n",
    "    path = os.path.join(PATH, file_name+'.txt')\n",
    "    text_file = df.to_csv(path, index=False)\n",
    "\n",
    "    return text_file\n"
   ]
  },
  {
   "cell_type": "code",
   "execution_count": 7,
   "metadata": {},
   "outputs": [
    {
     "name": "stdout",
     "output_type": "stream",
     "text": [
      "['universidad nacional de villa maría']\n",
      "Total rows: 2138 - Total cols: 10\n",
      "Keys and Types\n",
      "<class 'pandas.core.frame.DataFrame'>\n",
      "RangeIndex: 2138 entries, 0 to 2137\n",
      "Data columns (total 10 columns):\n",
      " #   Column            Non-Null Count  Dtype \n",
      "---  ------            --------------  ----- \n",
      " 0   university        2138 non-null   object\n",
      " 1   career            2138 non-null   object\n",
      " 2   inscription_date  2138 non-null   object\n",
      " 3   first_name        2138 non-null   object\n",
      " 4   last_name         2138 non-null   object\n",
      " 5   gender            2138 non-null   object\n",
      " 6   age               2138 non-null   int16 \n",
      " 7   postal_code       2138 non-null   object\n",
      " 8   location          2138 non-null   object\n",
      " 9   email             2138 non-null   object\n",
      "dtypes: int16(1), object(9)\n",
      "memory usage: 154.6+ KB\n",
      "None\n",
      "Max age:  99\n"
     ]
    }
   ],
   "source": [
    "# Read csv file and create dataframe.\n",
    "villa_maria_df = pd.read_csv(VILLA_MARIA)\n",
    "# Normalize data.\n",
    "villa_maria_df = normalize_data(villa_maria_csv)\n",
    "# Create the txt file to save the changes.\n",
    "create_txt(villa_maria_df, 'universidad_de_villa_maria')\n",
    "\n",
    "# Spy on data again.\n",
    "spy_on_data(villa_maria_df)\n"
   ]
  },
  {
   "cell_type": "code",
   "execution_count": 8,
   "metadata": {},
   "outputs": [
    {
     "name": "stdout",
     "output_type": "stream",
     "text": [
      "['universidad de flores']\n",
      "Total rows: 1819 - Total cols: 10\n",
      "Keys and Types\n",
      "<class 'pandas.core.frame.DataFrame'>\n",
      "RangeIndex: 1819 entries, 0 to 1818\n",
      "Data columns (total 10 columns):\n",
      " #   Column            Non-Null Count  Dtype \n",
      "---  ------            --------------  ----- \n",
      " 0   university        1819 non-null   object\n",
      " 1   career            1819 non-null   object\n",
      " 2   inscription_date  1819 non-null   object\n",
      " 3   first_name        1819 non-null   object\n",
      " 4   last_name         1819 non-null   object\n",
      " 5   gender            1819 non-null   object\n",
      " 6   age               1819 non-null   int16 \n",
      " 7   postal_code       1819 non-null   object\n",
      " 8   location          1819 non-null   object\n",
      " 9   email             1819 non-null   object\n",
      "dtypes: int16(1), object(9)\n",
      "memory usage: 131.6+ KB\n",
      "None\n",
      "Max age:  116\n"
     ]
    }
   ],
   "source": [
    "# Read csv file and create dataframe.\n",
    "flores_csv = pd.read_csv(FLORES)\n",
    "# Normalize data.\n",
    "flores_csv = normalize_data(flores_csv)\n",
    "# Create the txt file to save the changes.\n",
    "create_txt(villa_maria_df, 'universidad_de_flores')\n",
    "\n",
    "# Spy on data again.\n",
    "spy_on_data(flores_csv)\n"
   ]
  },
  {
   "cell_type": "code",
   "execution_count": 9,
   "metadata": {},
   "outputs": [
    {
     "name": "stdout",
     "output_type": "stream",
     "text": [
      "Empty DataFrame\n",
      "Columns: [university, career, inscription_date, first_name, last_name, gender, age, postal_code, location, email]\n",
      "Index: []\n",
      "Empty DataFrame\n",
      "Columns: [university, career, inscription_date, first_name, last_name, gender, age, postal_code, location, email]\n",
      "Index: []\n",
      "Empty DataFrame\n",
      "Columns: [university, career, inscription_date, first_name, last_name, gender, age, postal_code, location, email]\n",
      "Index: []\n",
      "Empty DataFrame\n",
      "Columns: [university, career, inscription_date, first_name, last_name, gender, age, postal_code, location, email]\n",
      "Index: []\n"
     ]
    }
   ],
   "source": [
    "# Ninguno de los mails contiene _ o -, con lo cual el replace no los elimina. Chequeado.\n",
    "flores_csv = pd.read_csv(FLORES)\n",
    "villa_maria_df = pd.read_csv(VILLA_MARIA)\n",
    "\n",
    "mask_v = villa_maria_df['email'].str.contains('_')\n",
    "print(villa_maria_df[mask_v])\n",
    "mask_v = villa_maria_df['email'].str.contains('-')\n",
    "print(villa_maria_df[mask_v])\n",
    "\n",
    "mask_f = flores_csv['email'].str.contains('_')\n",
    "print(flores_csv[mask_f])\n",
    "mask_f = flores_csv['email'].str.contains('-')\n",
    "print(flores_csv[mask_f])\n",
    "\n"
   ]
  }
 ],
 "metadata": {
  "kernelspec": {
   "display_name": "Python 3.10.4 64-bit",
   "language": "python",
   "name": "python3"
  },
  "language_info": {
   "codemirror_mode": {
    "name": "ipython",
    "version": 3
   },
   "file_extension": ".py",
   "mimetype": "text/x-python",
   "name": "python",
   "nbconvert_exporter": "python",
   "pygments_lexer": "ipython3",
   "version": "3.10.4"
  },
  "orig_nbformat": 4,
  "vscode": {
   "interpreter": {
    "hash": "31f2aee4e71d21fbe5cf8b01ff0e069b9275f58929596ceb00d14d90e3e16cd6"
   }
  }
 },
 "nbformat": 4,
 "nbformat_minor": 2
}
