{
 "cells": [
  {
   "cell_type": "code",
   "execution_count": 1,
   "metadata": {},
   "outputs": [],
   "source": [
    "import pandas as pd\n",
    "import sys\n",
    "import os\n",
    "import re\n",
    "import numpy as np\n",
    "from datetime import datetime"
   ]
  },
  {
   "cell_type": "code",
   "execution_count": 2,
   "metadata": {},
   "outputs": [],
   "source": [
    "# Datetime converting\n",
    "def conv_datetime(date):\n",
    "    conv =  datetime.strptime(date, '%Y-%m-%dT%H:%M:%S.%f').strftime('%Y-%m-%d')\n",
    "    return conv\n",
    "def conv_just_date(date):\n",
    "    conv = datetime.strptime(date,'%Y-%m-%d')\n",
    "    return conv"
   ]
  },
  {
   "cell_type": "code",
   "execution_count": 3,
   "metadata": {},
   "outputs": [],
   "source": [
    "# Top 10 fechas con mayor cantidad de post creados -> Then mapping dates and posts\n",
    "\n",
    "# Relación entre cantidad de respuestas y sus visitas. -> Then mapping answers and views\n",
    "\n",
    "# Mapping information and returning data\n",
    "\n",
    "file = open(f\"posts.xml\",\"r\")\n",
    "\n",
    "with open(\"newfile_mapped.txt\",\"w\") as nw:\n",
    "\n",
    "    for line in file:\n",
    "        line = line.strip()\n",
    "        date = (str(re.findall(\"CreationDate=\\\".*?\\\"\",line)).replace(\"CreationDate=\\\"\",\"\").replace(\"\\\"\",\"\"))\n",
    "        score = (str(re.findall(\"Score=\\\".*?\\\"\",line)).replace(\"Score=\\\"\",\"\").replace(\"\\\"\",\"\"))\n",
    "        post = (str(re.findall(\"PostTypeId=\\\".*?\\\"\",line)).replace(\"PostTypeId=\\\"\",\"\").replace(\"\\\"\",\"\"))\n",
    "        views = (str(re.findall(\"ViewCount=\\\".*?\\\"\",line)).replace(\"ViewCount=\\\"\",\"\").replace(\"\\\"\",\"\"))\n",
    "        answers = (str(re.findall(\"AnswerCount=\\\".*?\\\"\",line)).replace(\"AnswerCount=\\\"\",\"\").replace(\"\\\"\",\"\"))\n",
    "        txt=(\"{} {} {} {} {}\".format(post, date, score, views, answers))\n",
    "        txt=txt.replace(\"[\",\"\").replace(\"]\",\"\").replace(\"\\'\",\"\")\n",
    "        nw.write(\"{}\\n\".format(txt))"
   ]
  },
  {
   "cell_type": "code",
   "execution_count": 4,
   "metadata": {},
   "outputs": [
    {
     "name": "stderr",
     "output_type": "stream",
     "text": [
      "/tmp/ipykernel_11032/3378930259.py:14: FutureWarning: The series.append method is deprecated and will be removed from pandas in a future version. Use pandas.concat instead.\n",
      "  df_fechas[\"fechas\"]=df_fechas[\"fechas\"].append(pd.Series(fechas))\n"
     ]
    }
   ],
   "source": [
    "# Reducer 1\n",
    "file1 = open(f\"newfile_mapped.txt\",\"r\")\n",
    "fechas=[]\n",
    "for line in file1:\n",
    "    line = line.strip()\n",
    "    line = line.split(\" \")\n",
    "    try: \n",
    "        date = conv_datetime(line[1])\n",
    "        date = conv_just_date(date)\n",
    "        fechas.append(date)\n",
    "    except:\n",
    "        pass\n",
    "df_fechas=pd.DataFrame(columns=[\"fechas\"])\n",
    "df_fechas[\"fechas\"]=df_fechas[\"fechas\"].append(pd.Series(fechas))\n",
    "\n",
    "tabla_conteo=df_fechas[\"fechas\"].value_counts().rename_axis(\"registros\").reset_index(name='cantidad')\n",
    "tabla10=tabla_conteo.head(10)\n",
    "tabla10.to_csv(\"posts_by_date.txt\",header=None, index=None, sep=' ',mode='a')"
   ]
  },
  {
   "cell_type": "code",
   "execution_count": 5,
   "metadata": {},
   "outputs": [],
   "source": [
    "# Reducer 2\n",
    "# Relación entre cantidad de respuestas y sus visitas. -> Then mapping answers and views\n",
    "with open(\"views_answers.txt\",\"w\") as VA:\n",
    "    file1 = open(f\"newfile_mapped.txt\",\"r\")\n",
    "    for line in file1:\n",
    "        line = line.strip()\n",
    "        line = line.split(\" \")\n",
    "        try:\n",
    "            if line[3] and line[4] != 0: \n",
    "                VA.write(\"{} {}\\n\".format(line[4],line[3]))\n",
    "        except:\n",
    "            pass"
   ]
  },
  {
   "cell_type": "code",
   "execution_count": 6,
   "metadata": {},
   "outputs": [],
   "source": [
    "# Mapper - score - time\n",
    "file = open(f\"posts.xml\",\"r\")\n",
    "\n",
    "with open(\"Score_time_mapped.txt\",\"w\") as nw:\n",
    "\n",
    "    for line in file:\n",
    "        line = line.strip()\n",
    "        \n",
    "        post_id = (str(re.findall(\" Id=\\\".*?\\\"\",line)).replace(\" Id=\\\"\",\"\").replace(\"\\\"\",\"\")) #Individual Id \n",
    "        posttype = (str(re.findall(\"PostTypeId=\\\".*?\\\"\",line)).replace(\"PostTypeId=\\\"\",\"\").replace(\"\\\"\",\"\")) #Type 1-Question 2-Answer\n",
    "        parent_post = (str(re.findall(\"ParentId=\\\".*?\\\"\",line)).replace(\"ParentId=\\\"\",\"\").replace(\"\\\"\",\"\")) #Parent Id\n",
    "        date = (str(re.findall(\"CreationDate=\\\".*?\\\"\",line)).replace(\"CreationDate=\\\"\",\"\").replace(\"\\\"\",\"\"))\n",
    "        score = (str(re.findall(\"Score=\\\".*?\\\"\",line)).replace(\"Score=\\\"\",\"\").replace(\"\\\"\",\"\"))\n",
    "\n",
    "        txt=(\"{},{},{},{},{}\".format(post_id, posttype, date, score, parent_post))\n",
    "        txt=txt.replace(\"[\",\"\").replace(\"]\",\"\").replace(\"\\'\",\"\")\n",
    "        nw.write(\"{}\\n\".format(txt))"
   ]
  },
  {
   "cell_type": "code",
   "execution_count": 7,
   "metadata": {},
   "outputs": [],
   "source": [
    "score_time=open(f\"Score_time_mapped.txt\",\"r\")\n",
    "questions_id=[]\n",
    "questions_dates=[]\n",
    "answers_parentid=[]\n",
    "answers_date=[]\n",
    "answers_score=[]\n",
    "\n",
    "def date_normalization(date):\n",
    "    return datetime.strptime(date, '%Y-%m-%dT%H:%M:%S.%f')\n",
    "\n",
    "for line in score_time:\n",
    "    line=line.strip()\n",
    "    line=line.split(\",\")\n",
    "    try:\n",
    "        if int(line[1])==2:\n",
    "            pass\n",
    "            # TEST print(line[4],line[2],line[3]) # ParentId, date and score if post is type 2\n",
    "            answers_parentid.append(int(line[4]))\n",
    "            answers_date.append(date_normalization(line[2]))\n",
    "            answers_score.append(int(line[3]))\n",
    "        else:\n",
    "            # TEST print(line[0],line[2]) #Id and Date if post is type 1\n",
    "            questions_id.append(int(line[0]))\n",
    "            questions_dates.append(date_normalization(line[2]))\n",
    "    except:\n",
    "        pass\n",
    "\n",
    "df_questions=pd.DataFrame(columns=[\"Id\",\"Date\"],index=None)\n",
    "df_questions[\"Id\"]=questions_id\n",
    "df_questions[\"Date\"]=questions_dates\n",
    "\n",
    "df_answers=pd.DataFrame(columns=[\"Id\",\"Date_new\",\"Score\"],index=None)\n",
    "df_answers[\"Id\"]=answers_parentid\n",
    "df_answers[\"Date_new\"]=answers_date\n",
    "df_answers[\"Score\"]=answers_score\n",
    "\n",
    "top_100 = df_answers.sort_values('Score',ascending=False).head(100)\n",
    "\n",
    "inner_joined = pd.merge(df_questions,top_100,on=[\"Id\"],how=\"inner\")\n",
    "\n",
    "inner_joined.sort_values('Score',ascending=False)\n",
    "\n",
    "with open(\"average_time.txt\",\"w\") as VA:\n",
    "    VA.write(\"{}\".format(pd.DataFrame.mean(inner_joined[\"Date_new\"]-inner_joined[\"Date\"])))"
   ]
  },
  {
   "cell_type": "code",
   "execution_count": null,
   "metadata": {},
   "outputs": [],
   "source": []
  }
 ],
 "metadata": {
  "kernelspec": {
   "display_name": "Python 3.8.10 64-bit",
   "language": "python",
   "name": "python3"
  },
  "language_info": {
   "codemirror_mode": {
    "name": "ipython",
    "version": 3
   },
   "file_extension": ".py",
   "mimetype": "text/x-python",
   "name": "python",
   "nbconvert_exporter": "python",
   "pygments_lexer": "ipython3",
   "version": "3.8.10"
  },
  "orig_nbformat": 4,
  "vscode": {
   "interpreter": {
    "hash": "916dbcbb3f70747c44a77c7bcd40155683ae19c65e1c03b4aa3499c5328201f1"
   }
  }
 },
 "nbformat": 4,
 "nbformat_minor": 2
}
