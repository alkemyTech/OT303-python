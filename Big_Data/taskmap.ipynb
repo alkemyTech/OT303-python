{
 "cells": [
  {
   "cell_type": "code",
   "execution_count": null,
   "metadata": {},
   "outputs": [],
   "source": [
    "from mapreduce import *\n",
    "import pandas as pd"
   ]
  },
  {
   "cell_type": "code",
   "execution_count": null,
   "metadata": {},
   "outputs": [],
   "source": [
    "xml_file_path = 'raw_data/posts.xml'\n",
    "xml_root = get_single_xml(xml_file_path)"
   ]
  },
  {
   "cell_type": "code",
   "execution_count": null,
   "metadata": {},
   "outputs": [],
   "source": [
    "# Top 10 tipo de post sin respuestas aceptadas (tag - AcceptedAnswerId - AnswerCount)\n",
    "t1 = mapreduce_tasker(xml_file_path = 'raw_data/posts.xml', map_root = mapper_task_1, reduce = reducer_task_1)\n",
    "pd.DataFrame.from_dict(t1, orient = 'index', columns = ['Count']).reset_index().rename(columns = {'index' : 'Tag'})\n"
   ]
  },
  {
   "cell_type": "code",
   "execution_count": null,
   "metadata": {},
   "outputs": [],
   "source": [
    "# Relación entre cantidad de respuestas de un post y su puntaje.\n",
    "t2 = mapreduce_tasker(xml_file_path = 'raw_data/posts.xml', map_root = mapper_task_2, reduce = reducer_task_2)\n",
    "t2"
   ]
  },
  {
   "cell_type": "code",
   "execution_count": null,
   "metadata": {},
   "outputs": [],
   "source": [
    "# Top 10 preguntas que tuvieron mayor tiempo de actividad\n",
    "t3 = mapreduce_tasker(xml_file_path = 'raw_data/posts.xml', map_root = mapper_task_3, reduce = reducer_task_3)\n",
    "pd.DataFrame(t3, columns = ['Post Id', 'Days'])\n"
   ]
  }
 ],
 "metadata": {
  "language_info": {
   "name": "python"
  },
  "orig_nbformat": 4
 },
 "nbformat": 4,
 "nbformat_minor": 2
}
